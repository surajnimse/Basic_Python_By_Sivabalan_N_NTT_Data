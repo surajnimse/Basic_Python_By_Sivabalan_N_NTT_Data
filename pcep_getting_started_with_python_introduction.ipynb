{
  "nbformat": 4,
  "nbformat_minor": 0,
  "metadata": {
    "colab": {
      "provenance": [],
      "include_colab_link": true
    },
    "kernelspec": {
      "name": "python3",
      "display_name": "Python 3"
    },
    "language_info": {
      "name": "python"
    }
  },
  "cells": [
    {
      "cell_type": "markdown",
      "metadata": {
        "id": "view-in-github",
        "colab_type": "text"
      },
      "source": [
        "<a href=\"https://colab.research.google.com/github/surajnimse/Basic_Python_By_Sivabalan_N_NTT_Data/blob/main/pcep_getting_started_with_python_introduction.ipynb\" target=\"_parent\"><img src=\"https://colab.research.google.com/assets/colab-badge.svg\" alt=\"Open In Colab\"/></a>"
      ]
    },
    {
      "cell_type": "markdown",
      "source": [],
      "metadata": {
        "id": "kzedX0b3y6P0"
      }
    },
    {
      "cell_type": "code",
      "source": [],
      "metadata": {
        "id": "J3F7rLNUv4I-"
      },
      "execution_count": null,
      "outputs": []
    },
    {
      "cell_type": "code",
      "source": [
        "13//5"
      ],
      "metadata": {
        "id": "nuaYpDCKzoNY"
      },
      "execution_count": null,
      "outputs": []
    },
    {
      "cell_type": "code",
      "source": [
        "num1=10\n",
        "num2=20\n",
        "num3=num1 #\n",
        "num1=100\n",
        "print(num1,num2,num3)"
      ],
      "metadata": {
        "id": "zn5A8FHcz9bL"
      },
      "execution_count": null,
      "outputs": []
    },
    {
      "cell_type": "code",
      "source": [
        "'''\n",
        "num_x=\"2\"\n",
        "print(num_x)\n",
        "print(type(num_x))\n",
        "'''\n",
        "'''\n",
        "num_x==2\n",
        "print(num_x)\n",
        "print(type(num_x))\n",
        "'''\n",
        "num_x=2\n",
        "print(num_x)\n",
        "print(type(num_x))\n",
        "\n",
        "\n",
        "num_x=6-4\n",
        "print(num_x)\n",
        "print(type(num_x))\n",
        "\n"
      ],
      "metadata": {
        "id": "vOaFoydh0foz"
      },
      "execution_count": null,
      "outputs": []
    },
    {
      "cell_type": "code",
      "source": [
        "\"hello\"+\"world\"\n",
        "\"hello\"*3"
      ],
      "metadata": {
        "id": "tK6B5Bif10ll"
      },
      "execution_count": null,
      "outputs": []
    },
    {
      "cell_type": "code",
      "source": [
        "a=True\n",
        "b=True\n",
        "not b"
      ],
      "metadata": {
        "id": "igxZolM-2Q-Z"
      },
      "execution_count": null,
      "outputs": []
    },
    {
      "cell_type": "code",
      "source": [
        "'''''\n",
        "multi\n",
        "license\n",
        "'''''"
      ],
      "metadata": {
        "id": "lS9KBOLx2r12"
      },
      "execution_count": null,
      "outputs": []
    },
    {
      "cell_type": "code",
      "source": [
        "\"python --version\""
      ],
      "metadata": {
        "id": "SeHuquhq3Zgs"
      },
      "execution_count": null,
      "outputs": []
    },
    {
      "cell_type": "code",
      "source": [
        "bool\n",
        "number\n",
        "float\n",
        "character\n",
        "int"
      ],
      "metadata": {
        "id": "0ligGWLO3tGy"
      },
      "execution_count": null,
      "outputs": []
    },
    {
      "cell_type": "code",
      "source": [
        "cool_number = 12 + 30\n",
        "cool_number * 5\n",
        "print(cool_number)"
      ],
      "metadata": {
        "id": "tikcIb9DFAOD"
      },
      "execution_count": null,
      "outputs": []
    },
    {
      "cell_type": "code",
      "source": [
        "o_c = \"40.6\"\n",
        "n_c = \"60.8\"\n",
        "t_c = o_c + n_c\n",
        "t_c"
      ],
      "metadata": {
        "id": "r3XtkpKHv5b9"
      },
      "execution_count": null,
      "outputs": []
    },
    {
      "cell_type": "code",
      "source": [
        "t_c = float(o_c) + float(n_c)\n",
        "t_c"
      ],
      "metadata": {
        "id": "nb6Eko14wMVc"
      },
      "execution_count": null,
      "outputs": []
    },
    {
      "cell_type": "code",
      "source": [
        "value_str = \"Python world\"\n",
        "value_str = list(value_str)\n",
        "value_str"
      ],
      "metadata": {
        "id": "pri2L-ZSwsf9"
      },
      "execution_count": null,
      "outputs": []
    },
    {
      "cell_type": "code",
      "source": [
        "#swapping numbers\n",
        "a=20\n",
        "b=30\n",
        "c=0\n",
        "c=a\n",
        "a=b\n",
        "b=c\n",
        "print(\"a =\",a)\n",
        "print(\"b =\",b)"
      ],
      "metadata": {
        "id": "pNc_SAqJIgcN"
      },
      "execution_count": null,
      "outputs": []
    },
    {
      "cell_type": "code",
      "source": [
        "a=\"six\"\n",
        "b=(int(a),float(a))"
      ],
      "metadata": {
        "id": "NJmStI1KSnVg"
      },
      "execution_count": null,
      "outputs": []
    },
    {
      "cell_type": "code",
      "source": [
        "a = [1, 'one', {2: 'two'}, 3]\n",
        "b = len(a)\n",
        "\n",
        "if b == 4:\n",
        "   print('Length of this list is 4')\n",
        "   if b == 5:\n",
        "       print('Length of this list is 5')\n",
        "   else:\n",
        "         print(b)\n"
      ],
      "metadata": {
        "id": "IGiJMyM6TCTP"
      },
      "execution_count": null,
      "outputs": []
    },
    {
      "cell_type": "code",
      "source": [
        "new_list = [\"Red\", \"Blue\", \"White\", \"Green\"]\n",
        "z = sorted(new_list)\n",
        "#d = list(z)\n",
        "print(z)\n",
        "#print(d)"
      ],
      "metadata": {
        "id": "1j_UbkFuTlD1"
      },
      "execution_count": null,
      "outputs": []
    },
    {
      "cell_type": "code",
      "source": [
        "value = 4\n",
        "\n",
        "a = str(value)\n",
        "b = a + \"^\" + \"2\"\n",
        "c = a + \"^\" + \"3\"\n",
        "\n",
        "print(value, \"+\", b, \"+\", c)\n"
      ],
      "metadata": {
        "id": "UKXnnTYEUfV_"
      },
      "execution_count": null,
      "outputs": []
    },
    {
      "cell_type": "code",
      "source": [
        "if 'bin' in {'float': 1.2, 'bin': 0b010}:\n",
        "     print('a')\n",
        "     print('b')\n",
        "print('c')\n"
      ],
      "metadata": {
        "id": "ZCUU80wTVdUf"
      },
      "execution_count": null,
      "outputs": []
    },
    {
      "cell_type": "code",
      "source": [
        "if None:\n",
        "  print('Hi')\n"
      ],
      "metadata": {
        "id": "_xysWUGqVncH"
      },
      "execution_count": null,
      "outputs": []
    },
    {
      "cell_type": "code",
      "source": [
        "#What are the results of evaluating the conditional expression?\n",
        "\n",
        "a = 5\n",
        "b = 10\n",
        "c = \"five\"\n",
        "#a == c\n",
        "#a >= b\n",
        "not(a < b and a > b)\n"
      ],
      "metadata": {
        "id": "53D5GK6TV59c"
      },
      "execution_count": null,
      "outputs": []
    },
    {
      "cell_type": "code",
      "source": [
        "'1' + '2'\n"
      ],
      "metadata": {
        "id": "NKLaQKzLXTpV"
      },
      "execution_count": null,
      "outputs": []
    },
    {
      "cell_type": "code",
      "source": [
        "# For Loops\n",
        "\n",
        "for i in range(10):\n",
        "  print(i)"
      ],
      "metadata": {
        "id": "87dHCDmrj_kQ"
      },
      "execution_count": null,
      "outputs": []
    },
    {
      "cell_type": "code",
      "source": [
        "for letter in 'hello':\n",
        "  print(letter)"
      ],
      "metadata": {
        "id": "GbgK3Xx_kI8g"
      },
      "execution_count": null,
      "outputs": []
    },
    {
      "cell_type": "code",
      "source": [
        "for letter in ['h','e','l','l','o']:\n",
        "  print(letter)"
      ],
      "metadata": {
        "id": "2IhPavaTkI5f"
      },
      "execution_count": null,
      "outputs": []
    },
    {
      "cell_type": "code",
      "source": [
        "for char in 'hello':\n",
        "  print(char)"
      ],
      "metadata": {
        "id": "hfl7Kn4pkI2f"
      },
      "execution_count": null,
      "outputs": []
    },
    {
      "cell_type": "code",
      "source": [
        "my_str=\"Hello World\"\n",
        "for char in my_str:\n",
        "  print(char)"
      ],
      "metadata": {
        "id": "8D0Vtqo8kIzf"
      },
      "execution_count": null,
      "outputs": []
    },
    {
      "cell_type": "code",
      "source": [
        "for digit in \"10\":\n",
        "  print(digit)"
      ],
      "metadata": {
        "id": "FxfTYhXXkIwv"
      },
      "execution_count": null,
      "outputs": []
    },
    {
      "cell_type": "code",
      "source": [
        "for digit in 10:\n",
        "  print(digit)"
      ],
      "metadata": {
        "id": "KAX5EJaqkItv"
      },
      "execution_count": null,
      "outputs": []
    },
    {
      "cell_type": "code",
      "source": [
        "for country in \"India\",\"USA\",\"UK\":\n",
        "  print(country)"
      ],
      "metadata": {
        "id": "REha6gxdkIqf"
      },
      "execution_count": null,
      "outputs": []
    },
    {
      "cell_type": "code",
      "source": [
        "dogs= (\"pug\",\"husky\",\"golden retriever\")\n",
        "for dog in dogs:\n",
        "  print(\"its a \",dog)"
      ],
      "metadata": {
        "id": "yshb57dTkIm_"
      },
      "execution_count": null,
      "outputs": []
    },
    {
      "cell_type": "code",
      "source": [
        "dog_weight = ((\"Pug\",20),\n",
        "              (\"husky\",80),\n",
        "              (\"golden retriever\",50),\n",
        "              (\"bullmust\",40),\n",
        "              (\"bulldog\",40),\n",
        "              )\n",
        "for i,(dog,weight) in enumerate(dog_weight):\n",
        "  print(\"The dog at index %d is a %s and it's weight is %s\"%(i,dog,weight))"
      ],
      "metadata": {
        "id": "wDlvs9cikIc_"
      },
      "execution_count": null,
      "outputs": []
    },
    {
      "cell_type": "code",
      "source": [
        "friends = [\"John\",\"Sam\",\"Jill\"]\n",
        "for friends in friends:\n",
        "  print(\"Happy New Year,\",friends)"
      ],
      "metadata": {
        "id": "jbTgJuKboHtP"
      },
      "execution_count": null,
      "outputs": []
    },
    {
      "cell_type": "code",
      "source": [
        "students_score = {\"John\":70,\"Sam\":80,\"Jill\":50,\"jack\":45,\"cook\":89,\"stell\":46}\n",
        "for student in students_score:\n",
        "  print(student)"
      ],
      "metadata": {
        "id": "Sypy7YeVoHqY"
      },
      "execution_count": null,
      "outputs": []
    },
    {
      "cell_type": "code",
      "source": [
        "for student in students_score:\n",
        "  score = students_score[student]\n",
        "  print(student,\" : \",score)"
      ],
      "metadata": {
        "id": "IzLJYQXPoHnG"
      },
      "execution_count": null,
      "outputs": []
    },
    {
      "cell_type": "code",
      "source": [
        "students_score.keys()"
      ],
      "metadata": {
        "id": "gzX_WNKJoHju"
      },
      "execution_count": null,
      "outputs": []
    },
    {
      "cell_type": "code",
      "source": [
        "students_score.values()"
      ],
      "metadata": {
        "id": "iJDuaw8boHhA"
      },
      "execution_count": null,
      "outputs": []
    },
    {
      "cell_type": "code",
      "source": [
        "for key in students_score:\n",
        "  print(key,students_score[key])"
      ],
      "metadata": {
        "id": "nrSKA8NOoHdu"
      },
      "execution_count": null,
      "outputs": []
    },
    {
      "cell_type": "code",
      "source": [
        "for key_value in students_score.items():\n",
        "  print(key_value)\n",
        "print(type(key_value))"
      ],
      "metadata": {
        "id": "FzwI-8AboHav"
      },
      "execution_count": null,
      "outputs": []
    },
    {
      "cell_type": "code",
      "source": [
        "# Else\n",
        "\n",
        "for student,score in students_score.items():\n",
        "  print(\"Student :\", student,\"\\t Score\", score)\n",
        "else:\n",
        "  print(\"Loop Completed\")"
      ],
      "metadata": {
        "id": "U7PuTDtUoHX3"
      },
      "execution_count": null,
      "outputs": []
    },
    {
      "cell_type": "code",
      "source": [
        "numbers = [4,6,9,10]\n",
        "for num in numbers:\n",
        "  quotient = num //2\n",
        "  print(quotient, \"is the quotient of\", num, \"/2\")\n",
        "else:\n",
        "  print(\"All the numbers are processed\")"
      ],
      "metadata": {
        "id": "ET1AzSiRoHVG"
      },
      "execution_count": null,
      "outputs": []
    },
    {
      "cell_type": "code",
      "source": [
        "mixed_list = [145,\n",
        "              10.5,\n",
        "              1+3j,\n",
        "              True,\n",
        "              \"Python\",\n",
        "              (0,-1),\n",
        "               [2,-5],\n",
        "               {\"Class\":\"V\",\"Section\":\"A\"},\n",
        "              ]\n",
        "for item in mixed_list:\n",
        "  print(\"Type of \",item,\"is\",type(item))\n"
      ],
      "metadata": {
        "id": "9DDBH32moHSO"
      },
      "execution_count": null,
      "outputs": []
    },
    {
      "cell_type": "code",
      "source": [
        "num_list = [2,4,6,8,10]\n",
        "for num in num_list:\n",
        "  square = num**2\n",
        "  #print(\"Square of \",num,\"is\",num**2)   #directly calculated in print statement.\n",
        "  print(\"Square of \",num,\"is\",square)"
      ],
      "metadata": {
        "id": "2yrinD2ooHO3"
      },
      "execution_count": null,
      "outputs": []
    },
    {
      "cell_type": "code",
      "source": [
        "string = input(\"Enter a string: \")\n",
        "count = 0\n",
        "for i in string:\n",
        "  count = count+1\n",
        "print(\"Length of the string is\",count)"
      ],
      "metadata": {
        "id": "ljncwUq2oHLe"
      },
      "execution_count": null,
      "outputs": []
    },
    {
      "cell_type": "code",
      "source": [
        "num_list = [2,4,6,8,10]\n",
        "for num in num_list:\n",
        "  print(num)\n",
        "else:\n",
        "  print(\"no more items left in the list\")"
      ],
      "metadata": {
        "id": "0PXKmyudoHIG"
      },
      "execution_count": null,
      "outputs": []
    },
    {
      "cell_type": "code",
      "source": [
        "characters = {\"a\",\"b\",\"c\",\"d\",\"e\"}\n",
        "for letter in characters:\n",
        "  print(letter)\n",
        "else:\n",
        "  print(\"No more characters left\")"
      ],
      "metadata": {
        "id": "ORcCKuxPoG_-"
      },
      "execution_count": null,
      "outputs": []
    },
    {
      "cell_type": "code",
      "source": [
        "us_cities = [\"New York\",\"Los Angeles\",\"Chicago\",\"Houston\",\"Phoenix\"]\n",
        "for city in us_cities:\n",
        "  if city == \"Houston\":\n",
        "    print(city,\"is present in the list\")"
      ],
      "metadata": {
        "id": "fxmX6jqgoGxo"
      },
      "execution_count": null,
      "outputs": []
    },
    {
      "cell_type": "code",
      "source": [
        "numbers=[11,33,55,39,2,55,75,37,22,41,13]\n",
        "for num in numbers:\n",
        "  if num%2==0:\n",
        "    print(\"The list contains an even number\",num)"
      ],
      "metadata": {
        "id": "VzAURbbk2_AH"
      },
      "execution_count": null,
      "outputs": []
    },
    {
      "cell_type": "code",
      "source": [
        "years = [2016,2017,2018,2019,2020,2024,2025,2026,2027,2028]\n",
        "for year in years:\n",
        "  if year%4==0:\n",
        "    print(year,\"is a leap year\")\n",
        "  else:\n",
        "    print(year,\"is not a leap year\")"
      ],
      "metadata": {
        "id": "Mb4SKxk33unj"
      },
      "execution_count": null,
      "outputs": []
    },
    {
      "cell_type": "code",
      "source": [
        "names = [[\"mary\",\"lynda\",\"jessika\"],\n",
        "         [\"aaa\",\"bbb\",\"ccc\"],\n",
        "         [\"xyz\",\"abc\",\"pqr\"]\n",
        "         ]\n",
        "\n",
        "for sublist in names:\n",
        "  print(sublist)\n"
      ],
      "metadata": {
        "id": "xlFe7E7q3uro"
      },
      "execution_count": null,
      "outputs": []
    },
    {
      "cell_type": "code",
      "source": [
        "for sublist in names:\n",
        "  for name in sublist:\n",
        "    print(name)"
      ],
      "metadata": {
        "id": "1kqpkiWQ3uvB"
      },
      "execution_count": null,
      "outputs": []
    },
    {
      "cell_type": "code",
      "source": [
        "colors_list = [\"red\",\"green\",\"blue\"]\n",
        "objects_list = [\"pen\",\"marker\",\"paper\"]\n",
        "for color in colors_list:\n",
        "  for obj in objects_list:\n",
        "    print(color,obj)"
      ],
      "metadata": {
        "id": "qlNpEQrS3uyB"
      },
      "execution_count": null,
      "outputs": []
    },
    {
      "cell_type": "code",
      "source": [
        "my_range = range(5)\n",
        "my_range"
      ],
      "metadata": {
        "id": "qyRDEHZt3u0y"
      },
      "execution_count": null,
      "outputs": []
    },
    {
      "cell_type": "code",
      "source": [
        "tuple(my_range)"
      ],
      "metadata": {
        "id": "9TdhgYGF3u5H"
      },
      "execution_count": null,
      "outputs": []
    },
    {
      "cell_type": "code",
      "source": [
        "list(my_range)"
      ],
      "metadata": {
        "id": "rrzzNt8G3u8B"
      },
      "execution_count": null,
      "outputs": []
    },
    {
      "cell_type": "code",
      "source": [
        "list(range(2,8))"
      ],
      "metadata": {
        "id": "wYTIGjWL3u_A"
      },
      "execution_count": null,
      "outputs": []
    },
    {
      "cell_type": "code",
      "source": [
        "list(range(-5,5))"
      ],
      "metadata": {
        "id": "LjZtT8Jx3vCA"
      },
      "execution_count": null,
      "outputs": []
    },
    {
      "cell_type": "code",
      "source": [
        "for i in range(6):\n",
        "  print(\"Hello\")"
      ],
      "metadata": {
        "id": "bm5oyLMxMeVu"
      },
      "execution_count": null,
      "outputs": []
    },
    {
      "cell_type": "code",
      "source": [
        "for num in range(5,10):\n",
        "  print(\"number\", num)"
      ],
      "metadata": {
        "id": "sruoI-8IOaQl"
      },
      "execution_count": null,
      "outputs": []
    },
    {
      "cell_type": "code",
      "source": [
        "# Break Statement in for loop\n",
        "for letter in \"Python\":\n",
        "  if letter == \"h\":\n",
        "    break\n",
        "  print(\"Current Letter:\",letter)"
      ],
      "metadata": {
        "id": "wIuxCcJdOaTd"
      },
      "execution_count": null,
      "outputs": []
    },
    {
      "cell_type": "code",
      "source": [
        "# Break Statement in for loop\n",
        "for letter in \"Python\":\n",
        "    print(\"Current Letter:\",letter)\n",
        "    if letter == \"h\":\n",
        "      break\n"
      ],
      "metadata": {
        "id": "Ynz9lF8LOaWf"
      },
      "execution_count": null,
      "outputs": []
    },
    {
      "cell_type": "code",
      "source": [
        "for letter in \"icecream\":\n",
        "  if letter == \"n\":\n",
        "    print(\"Letter C Found in string:\",letter)\n",
        "    break\n",
        "else:\n",
        "    print(\"Letter C Not Found:\",letter)"
      ],
      "metadata": {
        "id": "7DZDwCrzS7ra"
      },
      "execution_count": null,
      "outputs": []
    },
    {
      "cell_type": "code",
      "source": [
        "mylist = range(10)\n",
        "for i in mylist:\n",
        "    if i == 8:\n",
        "        break\n",
        "    print(i)"
      ],
      "metadata": {
        "id": "QoWlgx7npZsA"
      },
      "execution_count": null,
      "outputs": []
    },
    {
      "cell_type": "code",
      "source": [
        "for i in range (1,10):\n",
        "  if i >= 5:\n",
        "    break\n",
        "  print(i,\"is less than 5\")"
      ],
      "metadata": {
        "id": "KWGUuaEZqQ43"
      },
      "execution_count": null,
      "outputs": []
    },
    {
      "cell_type": "code",
      "source": [
        "mylist = range(100)\n",
        "for i in mylist:\n",
        "    if i ** 2 >= 100:\n",
        "      break\n",
        "    print(i,\"square\",i ** 2)"
      ],
      "metadata": {
        "id": "sc8ZJVo5qyp3"
      },
      "execution_count": null,
      "outputs": []
    },
    {
      "cell_type": "code",
      "source": [
        "num = int(input(\"Enter a number :  \"))\n",
        "for i in range(2,num):\n",
        "  if num % i ==0:\n",
        "    print(num,\"is not a prime number\")\n",
        "    break\n",
        "else:\n",
        "  print(num,\"is a prime number\")"
      ],
      "metadata": {
        "id": "2mUf2zE0unV5"
      },
      "execution_count": null,
      "outputs": []
    },
    {
      "cell_type": "code",
      "source": [
        "for i in range(3):\n",
        "  password = str(input(\"Enter Password  :\"))\n",
        "  if password == \"suraj\":\n",
        "    print(\"access granted\")\n",
        "    break\n",
        "  else:\n",
        "    print(\"3 time wrong password entered\")"
      ],
      "metadata": {
        "id": "Rf4Ljbpby8Sn"
      },
      "execution_count": null,
      "outputs": []
    },
    {
      "cell_type": "code",
      "source": [
        "for letter in \"string\":\n",
        "  if letter == \"i\":\n",
        "    continue\n",
        "  print(letter)\n",
        "print(\"The End\")"
      ],
      "metadata": {
        "id": "hnP3Bm1m0kaP"
      },
      "execution_count": null,
      "outputs": []
    },
    {
      "cell_type": "code",
      "source": [
        "for letter in \"students\":\n",
        "  if (letter == \"e\" or letter == \"s\"):\n",
        "    continue\n",
        "  else:\n",
        "      print(letter)\n",
        "print(\"The End\")"
      ],
      "metadata": {
        "id": "FqJwnnC91Oe8"
      },
      "execution_count": null,
      "outputs": []
    },
    {
      "cell_type": "code",
      "source": [
        "for i in range(1,10):\n",
        "  if i % 2 ==0:\n",
        "    print(i,\"  Even Numner\")\n",
        "  else:\n",
        "    continue\n",
        "  print(\"Yes\")"
      ],
      "metadata": {
        "id": "EYb-Uu_J1xk8"
      },
      "execution_count": null,
      "outputs": []
    },
    {
      "cell_type": "code",
      "source": [
        "for i in range(1,10):\n",
        "  if i % 2 ==0:\n",
        "    print(i,\"  Even Number\")\n",
        "    continue"
      ],
      "metadata": {
        "id": "ezTnQcxl3Jt1"
      },
      "execution_count": null,
      "outputs": []
    },
    {
      "cell_type": "code",
      "source": [
        "for i in range(1,12):\n",
        "  print()\n",
        "  print(\"Before Continue Statement     \" ,i)\n",
        "  if i % 3 == 0:\n",
        "    continue\n",
        "  print(\"After the continue statement  \",i)"
      ],
      "metadata": {
        "id": "obXoVmFo8I7q"
      },
      "execution_count": null,
      "outputs": []
    },
    {
      "cell_type": "code",
      "source": [
        "numdays = [31,28,31,30,31,30,31,31,30,31,30,31]\n",
        "months = [\"Jan\",\"Feb\",\"Mar\",\"Apr\",\"May\",\"Jun\",\"Jul\",\"Aug\",\"Sep\",\"Oct\",\"Nov\",\"Dec\"]\n",
        "numdays[0]\n",
        "newdict = dict()\n",
        "for i,j in zip(months,numdays):\n",
        "  newdict.update({i:j})\n",
        "\n",
        "  if newdict[i] <= 29:\n",
        "    continue\n",
        "  else:\n",
        "    print(i,\"   month has \",newdict[i],\"  days\")\n"
      ],
      "metadata": {
        "id": "YQlrw7bl8I5B"
      },
      "execution_count": null,
      "outputs": []
    },
    {
      "cell_type": "code",
      "source": [
        "animals = [\"dog\",\"cat\",\"rabbit\",\"lion\",\"tiger\",\"giraffe\",\"deer\"]\n",
        "for pet in animals:\n",
        "  if pet == \"cat\":\n",
        "    continue\n",
        "  if pet ==\"Dog\":\n",
        "    break\n",
        "  print(pet)"
      ],
      "metadata": {
        "id": "S-OPZvjV8I2K"
      },
      "execution_count": null,
      "outputs": []
    },
    {
      "cell_type": "code",
      "source": [
        "for letter in \"Python\":\n",
        "  if letter == \"h\":\n",
        "    pass\n",
        "    print(\"This is the pass block\")\n",
        "  print(\"Current Letter:\",letter)\n",
        "print(\"The End\")"
      ],
      "metadata": {
        "id": "YMUb6dU48IzT"
      },
      "execution_count": null,
      "outputs": []
    },
    {
      "cell_type": "code",
      "source": [
        "mystr = input(\"Enter a string: \")\n",
        "digits = 0\n",
        "letters= 0\n",
        "for i in mystr:\n",
        "  if i.isdigit():\n",
        "    digits = digits + 1\n",
        "  elif i.isalpha():\n",
        "    letters = letters + 1\n",
        "  else:\n",
        "    pass\n",
        "print(\"Letters = \",letters)\n",
        "print(\"Digits = \",digits)"
      ],
      "metadata": {
        "id": "dx5r08qD8Iv6"
      },
      "execution_count": null,
      "outputs": []
    },
    {
      "cell_type": "code",
      "source": [
        "# Comprehensions\n",
        "num = range(11)\n",
        "[x * x for x in num]"
      ],
      "metadata": {
        "id": "h0thXMkOP-Xd"
      },
      "execution_count": null,
      "outputs": []
    },
    {
      "cell_type": "code",
      "source": [
        "letters = [letter for letter in \"suraj nimse\"]\n",
        "print(letters)"
      ],
      "metadata": {
        "id": "oisviZj9R9qM"
      },
      "execution_count": null,
      "outputs": []
    },
    {
      "cell_type": "code",
      "source": [
        "listofwords = [\"This\",\"Is\",\"A\",\"List\",\"Of\",\"Words\"]\n",
        "items = [word[0] for word in listofwords]\n",
        "items"
      ],
      "metadata": {
        "id": "M2tzRtYVSPiR"
      },
      "execution_count": null,
      "outputs": []
    },
    {
      "cell_type": "code",
      "source": [
        "[word.upper() for word in listofwords]"
      ],
      "metadata": {
        "id": "-U2KZTcHSudg"
      },
      "execution_count": null,
      "outputs": []
    },
    {
      "cell_type": "code",
      "source": [
        "[x * x for x in num if x % 2 != 0]"
      ],
      "metadata": {
        "id": "_GiWRJzPTMY4"
      },
      "execution_count": null,
      "outputs": []
    },
    {
      "cell_type": "code",
      "source": [
        "#Conditional Statements & Loops: Advanced Operations Using for Loops in Python\n",
        "\n",
        "listofnum = [124,148,173,231,256,301,315,361,399]\n",
        "for i in listofnum:\n",
        "  if (i == 315):\n",
        "    break\n",
        "  if(i % 7 == 0):\n",
        "    continue\n",
        "  print(i,\" \",end ='')"
      ],
      "metadata": {
        "id": "qZnmWZBZTMWI"
      },
      "execution_count": null,
      "outputs": []
    },
    {
      "cell_type": "markdown",
      "source": [
        "\\"
      ],
      "metadata": {
        "id": "lD6miutAW_s0"
      }
    },
    {
      "cell_type": "code",
      "source": [
        "original_list = [2,3,6,7,8,11,12,13,17,18]\n",
        "cubes_list = [x**3 for x in original_list if x % 3 == 0]\n",
        "print(cubes_list)"
      ],
      "metadata": {
        "id": "CV7gEpwjTMS-"
      },
      "execution_count": null,
      "outputs": []
    },
    {
      "cell_type": "code",
      "source": [
        "[x * 3 if x <5 else x * 4 for x in [1, 4, 5]]\n"
      ],
      "metadata": {
        "id": "8_4Mbv4tTMPf"
      },
      "execution_count": null,
      "outputs": []
    },
    {
      "cell_type": "code",
      "source": [
        "[x * 3 for x in [1, 4, 5]]\n"
      ],
      "metadata": {
        "id": "XqswCaSKYY_8"
      },
      "execution_count": null,
      "outputs": []
    },
    {
      "cell_type": "code",
      "source": [
        "# while loop\n",
        "number = 20\n",
        "while number < 30:\n",
        "  print(number)\n",
        "  number = number + 1\n"
      ],
      "metadata": {
        "id": "eKnsRZ4BWXqc"
      },
      "execution_count": null,
      "outputs": []
    },
    {
      "cell_type": "code",
      "source": [
        "num =20\n",
        "while num <= (25+5):\n",
        "  print(num)\n",
        "  num=num+1"
      ],
      "metadata": {
        "id": "3_YtP7K7WX6c"
      },
      "execution_count": null,
      "outputs": []
    },
    {
      "cell_type": "code",
      "source": [
        "name=\"Thomas\"\n",
        "while name == \"Thoma\":\n",
        "  print(\"%s is an amazing soccer play \"%name)\n",
        "  name=\"Kingsley\""
      ],
      "metadata": {
        "id": "V3mjSbNgWX9k"
      },
      "execution_count": null,
      "outputs": []
    },
    {
      "cell_type": "code",
      "source": [
        "user_password = ''\n",
        "while user_password != 'password':\n",
        "  user_password = input(\"Enter your password: \")\n",
        "print(\"Password Accepted\")"
      ],
      "metadata": {
        "id": "-AnTruP4WYAz"
      },
      "execution_count": null,
      "outputs": []
    },
    {
      "cell_type": "code",
      "source": [
        "numvalue = int(input(\"Enter a number: \"))\n",
        "name = input(\"Enter your name: \")\n",
        "count = 1\n",
        "while count <= numvalue:\n",
        "  print(count, \" : \" ,name)\n",
        "  count = count + 1"
      ],
      "metadata": {
        "id": "T4mWxEvCWYGt"
      },
      "execution_count": null,
      "outputs": []
    },
    {
      "cell_type": "code",
      "source": [
        "num=1\n",
        "while num <= 10:\n",
        "  print(num ** 2)\n",
        "  num=num+1"
      ],
      "metadata": {
        "id": "NExUtYcJWYD1"
      },
      "execution_count": null,
      "outputs": []
    },
    {
      "cell_type": "code",
      "source": [
        "num = 0\n",
        "while num in range(10):\n",
        "  print(num)\n",
        "  num = num + 1"
      ],
      "metadata": {
        "colab": {
          "base_uri": "https://localhost:8080/"
        },
        "id": "Xgduyp9AWYNP",
        "outputId": "9cdf0f9f-22b9-4103-a145-aa0918bf055f"
      },
      "execution_count": null,
      "outputs": [
        {
          "output_type": "stream",
          "name": "stdout",
          "text": [
            "0\n",
            "1\n",
            "2\n",
            "3\n",
            "4\n",
            "5\n",
            "6\n",
            "7\n",
            "8\n",
            "9\n"
          ]
        }
      ]
    },
    {
      "cell_type": "code",
      "source": [
        "num=0\n",
        "while num in range(10):\n",
        "  if num % 2 == 0:\n",
        "    print(num,\"is even number\")\n",
        "  num=num+1"
      ],
      "metadata": {
        "colab": {
          "base_uri": "https://localhost:8080/"
        },
        "id": "kwPvk1CjWYQU",
        "outputId": "d1000e40-a5f0-41c3-8784-63467210886b"
      },
      "execution_count": null,
      "outputs": [
        {
          "output_type": "stream",
          "name": "stdout",
          "text": [
            "0 is even number\n",
            "2 is even number\n",
            "4 is even number\n",
            "6 is even number\n",
            "8 is even number\n"
          ]
        }
      ]
    },
    {
      "cell_type": "code",
      "source": [
        "value_int = int(input(\"Enter a number: \"))\n",
        "length=0\n",
        "while value_int >0:\n",
        "  value_int //=10\n",
        "  length=length+1\n",
        "print(\"The length of the number is \",length)"
      ],
      "metadata": {
        "colab": {
          "base_uri": "https://localhost:8080/"
        },
        "id": "6T_xZgN0WYT0",
        "outputId": "0dfb502d-477c-45f0-d402-624b09f95009"
      },
      "execution_count": null,
      "outputs": [
        {
          "output_type": "stream",
          "name": "stdout",
          "text": [
            "Enter a number: 2121212121\n",
            "The length of the number is  10\n"
          ]
        }
      ]
    },
    {
      "cell_type": "code",
      "source": [
        "x,y =0,10"
      ],
      "metadata": {
        "id": "PenlzMPMWYW-"
      },
      "execution_count": null,
      "outputs": []
    },
    {
      "cell_type": "code",
      "source": [
        "while(x<y): x=x+1; print(x)"
      ],
      "metadata": {
        "colab": {
          "base_uri": "https://localhost:8080/"
        },
        "id": "hlAaLhr2WYZ8",
        "outputId": "1a0a72f3-ea42-4e47-a812-a5711f21ea05"
      },
      "execution_count": null,
      "outputs": [
        {
          "output_type": "stream",
          "name": "stdout",
          "text": [
            "1\n",
            "2\n",
            "3\n",
            "4\n",
            "5\n",
            "6\n",
            "7\n",
            "8\n",
            "9\n",
            "10\n"
          ]
        }
      ]
    },
    {
      "cell_type": "code",
      "source": [
        "# Shallow Copy\n",
        "import copy\n",
        "\n",
        "old_list = [[1, 2, 3], [4, 5, 6], [7, 8, 9]]\n",
        "new_list = copy.copy(old_list)\n",
        "\n",
        "print(\"\\n ----------------------------------------------------Original-List------------------------------------------------ \\n\")\n",
        "\n",
        "\n",
        "print(\"Old list:\", old_list)\n",
        "print(\"New list:\", new_list)\n",
        "\n",
        "print(\"\\n ----------------------------------------------------Original-List-After-Changes---------------------------------- \\n\")\n",
        "\n",
        "\n",
        "new_list[0][1] = 'X'\n",
        "\n",
        "print(\"Old list:\", old_list)\n",
        "print(\"New list:\", new_list)\n"
      ],
      "metadata": {
        "id": "_-7-fjwHWYdM",
        "outputId": "5c8658c0-df4b-49ca-999f-bb9f49b3d40e",
        "colab": {
          "base_uri": "https://localhost:8080/"
        }
      },
      "execution_count": null,
      "outputs": [
        {
          "output_type": "stream",
          "name": "stdout",
          "text": [
            "\n",
            " ----------------------------------------------------Original-List------------------------------------------------ \n",
            "\n",
            "Old list: [[1, 2, 3], [4, 5, 6], [7, 8, 9]]\n",
            "New list: [[1, 2, 3], [4, 5, 6], [7, 8, 9]]\n",
            "\n",
            " ----------------------------------------------------Original-List-After-Changes---------------------------------- \n",
            "\n",
            "Old list: [[1, 'X', 3], [4, 5, 6], [7, 8, 9]]\n",
            "New list: [[1, 'X', 3], [4, 5, 6], [7, 8, 9]]\n"
          ]
        }
      ]
    },
    {
      "cell_type": "code",
      "source": [
        "# Deep Copy\n",
        "import copy\n",
        "\n",
        "old_list = [[1, 2, 3], [4, 5, 6], [7, 8, 9]]\n",
        "new_list = copy.deepcopy(old_list)\n",
        "print(\"\\n ----------------------------------------------------Original-List------------------------------------------------ \\n\")\n",
        "\n",
        "\n",
        "print(\"Old list:\", old_list)\n",
        "print(\"New list:\", new_list)\n",
        "\n",
        "print(\"\\n ----------------------------------------------------Original-List-After-Changes---------------------------------- \\n\")\n",
        "\n",
        "\n",
        "new_list[0][1] = 'X'\n",
        "\n",
        "print(\"Old list:\", old_list)\n",
        "print(\"New list:\", new_list)\n"
      ],
      "metadata": {
        "id": "3QRDpATeWYgU",
        "outputId": "882a23d8-bfcd-43bd-c897-a92bce9f152f",
        "colab": {
          "base_uri": "https://localhost:8080/"
        }
      },
      "execution_count": null,
      "outputs": [
        {
          "output_type": "stream",
          "name": "stdout",
          "text": [
            "\n",
            " ----------------------------------------------------Original-List------------------------------------------------ \n",
            "\n",
            "Old list: [[1, 2, 3], [4, 5, 6], [7, 8, 9]]\n",
            "New list: [[1, 2, 3], [4, 5, 6], [7, 8, 9]]\n",
            "\n",
            " ----------------------------------------------------Original-List-After-Changes---------------------------------- \n",
            "\n",
            "Old list: [[1, 2, 3], [4, 5, 6], [7, 8, 9]]\n",
            "New list: [[1, 'X', 3], [4, 5, 6], [7, 8, 9]]\n"
          ]
        }
      ]
    },
    {
      "cell_type": "code",
      "source": [
        "dirty_harry = \"Go ahead, make my day.\"\n",
        "split_hairs = dirty_harry.split(\"a\")\n",
        "print(split_hairs)"
      ],
      "metadata": {
        "id": "UaN3g6CfWYjc",
        "colab": {
          "base_uri": "https://localhost:8080/"
        },
        "outputId": "921f50ec-67d0-40dd-b001-8393efbd501c"
      },
      "execution_count": null,
      "outputs": [
        {
          "output_type": "stream",
          "name": "stdout",
          "text": [
            "['Go ', 'he', 'd, m', 'ke my d', 'y.']\n"
          ]
        }
      ]
    },
    {
      "cell_type": "code",
      "source": [
        "when_you_are_old = \\\n",
        "\"\"\"When you are old and grey and full of sleep,\n",
        "And nodding by the fire, take down this book,\n",
        "And slowly read, and dream of the soft look\n",
        "Your eyes had once, and of their shadows deep;\n",
        "\n",
        "How many loved your moments of glad grace,\n",
        "And loved your beauty with love false or true,\n",
        "But one man loved the pilgrim soul in you,\n",
        "And loved the sorrows of your changing face;\n",
        "#\n",
        "And bending down beside the glowing bars,\n",
        "Murmur, a little sadly, how Love fled\n",
        "And paced upon the mountains overhead\n",
        "And hid his face amid a crowd of stars.\"\"\"\n"
      ],
      "metadata": {
        "id": "sDnVH3mjWYmk"
      },
      "execution_count": null,
      "outputs": []
    },
    {
      "cell_type": "code",
      "source": [
        "# Pandas Part -1  Session By Richa\n",
        "\n",
        "import pandas as pd\n",
        "data = pd.Series(5,index=[1,2,3])\n",
        "data2 = pd.Series(\"Suraj\",index=[\"a\",\"b\",\"c\"])\n",
        "print(data)\n",
        "print(data2)"
      ],
      "metadata": {
        "id": "SPE8c2olWYps",
        "colab": {
          "base_uri": "https://localhost:8080/"
        },
        "outputId": "f3c83967-56ad-4e6b-8d58-f8e653d32181"
      },
      "execution_count": 2,
      "outputs": [
        {
          "output_type": "stream",
          "name": "stdout",
          "text": [
            "1    5\n",
            "2    5\n",
            "3    5\n",
            "dtype: int64\n",
            "a    Suraj\n",
            "b    Suraj\n",
            "c    Suraj\n",
            "dtype: object\n"
          ]
        }
      ]
    },
    {
      "cell_type": "code",
      "source": [
        "import pandas as pd\n",
        "data = pd.Series([\"a\",\"b\",\"c\",\"d\"])\n",
        "print(data)\n",
        "\n",
        "print(\"\\n\\n-----------------------------------------------------------------------------------------------------------------------\\n\\n\")\n",
        "\n",
        "res = data[1:3]    # index starts from zero and ends at position-1   i.e 3-1\n",
        "print(res)"
      ],
      "metadata": {
        "id": "g3z9pFVxWYs0",
        "colab": {
          "base_uri": "https://localhost:8080/"
        },
        "outputId": "5ae69231-3c33-416b-a54b-fb9f475f3886"
      },
      "execution_count": 8,
      "outputs": [
        {
          "output_type": "stream",
          "name": "stdout",
          "text": [
            "0    a\n",
            "1    b\n",
            "2    c\n",
            "3    d\n",
            "dtype: object\n",
            "\n",
            "\n",
            "-----------------------------------------------------------------------------------------------------------------------\n",
            "\n",
            "\n",
            "1    b\n",
            "2    c\n",
            "dtype: object\n"
          ]
        }
      ]
    },
    {
      "cell_type": "code",
      "source": [
        "# Multitine Typing ctrl+alt+shift+Down Arrow\n",
        "#import pandas as pd\n",
        "#data = pd.Series([\"a\",\"b\",\"c\",\"d\"])\n",
        "#print(\"Data before slicing\",data,sep='\\n')\n",
        "#\n",
        "#print(\"\\n\\n-----------------------------------------------------------------------------------------------------------------------\\n\\n\")\n",
        "#\n",
        "#res = data[1:3]    # index starts from zero and ends at position-1   i.e 3-1\n",
        "#print(\"Data After slicing\",res,sep='\\n')\n",
        "#\n",
        "#print(\"\\n\\n-----------------------------------------------------------------------------------------------------------------------\\n\\n\")\n",
        "#\n",
        "##slice first 3 data\n",
        "#\n",
        "#res1= data[:3] #res1 = data[0:3]\n",
        "#print(\"First 3 data\",res1,sep='\\n')\n",
        "#\n",
        "#print(\"\\n\\n-----------------------------------------------------------------------------------------------------------------------\\n\\n\")"
      ],
      "metadata": {
        "id": "kkZ2qpakWYwT"
      },
      "execution_count": 12,
      "outputs": []
    },
    {
      "cell_type": "code",
      "source": [
        "import pandas as pd\n",
        "num = 13\n",
        "data = pd.Series(num)\n",
        "print(\"Addition = \",num+23)\n",
        "print(\"Subtraction = \",num-23)\n",
        "print(\"Multiplication = \",num*23)\n",
        "print(\"Division = \",num/23)\n",
        "\n",
        "data2 = pd.Series([1,2,3,4],index=[1,2,3,4])\n",
        "print(data2)"
      ],
      "metadata": {
        "id": "bONDXfPvWYzU",
        "colab": {
          "base_uri": "https://localhost:8080/"
        },
        "outputId": "f5f6cacd-595b-4188-acb1-8aac6ddb4aef"
      },
      "execution_count": 20,
      "outputs": [
        {
          "output_type": "stream",
          "name": "stdout",
          "text": [
            "Addition =  36\n",
            "Subtraction =  -10\n",
            "Multiplication =  299\n",
            "Division =  0.5652173913043478\n",
            "1    1\n",
            "2    2\n",
            "3    3\n",
            "4    4\n",
            "dtype: int64\n"
          ]
        }
      ]
    }
  ]
}